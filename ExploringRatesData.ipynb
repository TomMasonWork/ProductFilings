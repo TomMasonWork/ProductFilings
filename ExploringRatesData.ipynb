{
 "cells": [
  {
   "cell_type": "markdown",
   "metadata": {},
   "source": [
    "## 1 Import libraries and create user-defined functions"
   ]
  },
  {
   "cell_type": "code",
   "execution_count": 1,
   "metadata": {},
   "outputs": [],
   "source": [
    "# authentication\n",
    "import snowflake.connector\n",
    "import configparser\n",
    "config = configparser.ConfigParser()\n",
    "config.read('config.ini')\n",
    "\n",
    "# data manipulation\n",
    "import pandas as pd\n",
    "import numpy as np\n",
    "\n",
    "# visualization\n",
    "import matplotlib.pyplot as plt\n",
    "import seaborn as sns\n",
    "\n",
    "# prevent pandas column assignment warning\n",
    "pd.options.mode.chained_assignment = None  # default='warn'\n",
    "\n",
    "from sql_queries import rates_query"
   ]
  },
  {
   "cell_type": "code",
   "execution_count": 2,
   "metadata": {},
   "outputs": [],
   "source": [
    "def connect_to_db():\n",
    "\n",
    "    try:\n",
    "        conn = snowflake.connector.connect(\n",
    "        user=config['snowflake']['user'],\n",
    "        account=config['snowflake']['account'],\n",
    "        authenticator='externalbrowser',\n",
    "        database=config['snowflake']['database']\n",
    "        )\n",
    "        print('Connected successfully')\n",
    "    except:\n",
    "        print('Connection failed, try again')\n",
    "\n",
    "    return conn\n",
    "\n",
    "def run_sql_query(conn,sql_query,params,return_format):\n",
    "    \n",
    "    results = None\n",
    "    cursor = conn.cursor()\n",
    "    if params != None:\n",
    "        query = cursor.execute(sql_query,params)\n",
    "    else:\n",
    "        query = cursor.execute(sql_query)\n",
    "\n",
    "    # list of tuples\n",
    "    if return_format == 0:\n",
    "        results = []\n",
    "        rows = cursor.fetchall()\n",
    "        for row in rows:\n",
    "            results.append(row)\n",
    "\n",
    "    # pandas dataframe\n",
    "    if return_format == 1:\n",
    "        try:\n",
    "            cols = [column[0] for column in query.description]\n",
    "            results = pd.DataFrame.from_records(data=query.fetchall(),columns=cols)\n",
    "        except:\n",
    "            pass\n",
    "\n",
    "    # numpy array\n",
    "    if return_format == 2:\n",
    "        rows = cursor.fetchall()\n",
    "        results = np.array(rows)\n",
    "        \n",
    "    return results"
   ]
  },
  {
   "cell_type": "markdown",
   "metadata": {},
   "source": [
    "# 2 Connect to Snowflake"
   ]
  },
  {
   "cell_type": "code",
   "execution_count": null,
   "metadata": {},
   "outputs": [],
   "source": [
    "conn = connect_to_db()"
   ]
  },
  {
   "cell_type": "markdown",
   "metadata": {},
   "source": [
    "# 3 Run SQL queries to find field values"
   ]
  },
  {
   "cell_type": "markdown",
   "metadata": {},
   "source": [
    "## 3.1 Filing Types"
   ]
  },
  {
   "cell_type": "code",
   "execution_count": 4,
   "metadata": {},
   "outputs": [
    {
     "name": "stdout",
     "output_type": "stream",
     "text": [
      "Form,Rate,Rule,\n",
      "Form,Rule,\n",
      "Form,Rate,RF-3,Rule,\n",
      "Other,\n",
      "Rate,Transferred Pro\n",
      "Rate,\n",
      "Form,Rate,\n",
      "New Program,\n",
      "Advertising,\n",
      "Transferred Program,\n",
      "RF-3,\n",
      "Rate,Rule,\n",
      "Form,\n",
      "Rule,\n",
      "Advertising,Form,Rat\n"
     ]
    }
   ],
   "source": [
    "sql_get_filing_types = '''select distinct FILINGTYPE_16 from XPRESSFEED.SNL_PC_INSURANCEPRODUCTFILINGS_GENERALINFORMATION;'''\n",
    "filing_types = run_sql_query(conn,sql_query=sql_get_filing_types,params=None,return_format=0)\n",
    "for ft in filing_types:\n",
    "    print(ft[0])"
   ]
  },
  {
   "cell_type": "markdown",
   "metadata": {},
   "source": [
    "## 3.2 Types of insurance"
   ]
  },
  {
   "cell_type": "code",
   "execution_count": 14,
   "metadata": {},
   "outputs": [],
   "source": [
    "sql_get_tois = '''select distinct TYPEOFINSURANCEDESCRIPTION_8 from XPRESSFEED.SNL_PC_INSURANCEPRODUCTFILINGS_GENERALINFORMATION ORDER BY TYPEOFINSURANCEDESCRIPTION_8 asc;'''"
   ]
  },
  {
   "cell_type": "code",
   "execution_count": 15,
   "metadata": {},
   "outputs": [
    {
     "name": "stdout",
     "output_type": "stream",
     "text": [
      "Aircraft\n",
      "Auto Warranty\n",
      "Bailbonds\n",
      "Boiler and Machinery or Equipment Breakdown\n",
      "Burglary and Theft\n",
      "CMP Liability Portion Only\n",
      "CMP Liability and Non-Liability\n",
      "CMP Non-Liability Portion Only\n",
      "Commercial Auto\n",
      "Credit\n",
      "Credit - Personal Property\n",
      "Credit-Credit Default\n",
      "Crop\n",
      "Dwelling Fire/Personal Liability\n",
      "Earthquake\n",
      "Farmowners\n",
      "Fidelity\n",
      "Fidelity and Surety\n",
      "Financial Guaranty\n",
      "Flood\n",
      "Glass\n",
      "Home Warranty\n",
      "Homeowner/ Auto Combinations\n",
      "Homeowners\n",
      "Industrial Fire\n",
      "Inland Marine\n",
      "Interline Filings\n",
      "Livestock & Live Animals\n",
      "Med Mal-Claims Made Only\n",
      "Med Mal-Claims Made and Occurrence\n",
      "Med Mal-Occurrence Only\n",
      "Misc Casualty - Commercial\n",
      "Misc Casualty - Personal\n",
      "Mobile Home Physical Damage\n",
      "Mobile Homes under Transport\n",
      "Mortgage Guaranty\n",
      "Motor Vehicle Service Contracts\n",
      "Ocean Marine\n",
      "Other\n",
      "Other Liability-Claims Made Only\n",
      "Other Liability-Occ Only\n",
      "Other Liability-Occ/Claims Made\n",
      "Other Lines of Business\n",
      "Other Warranty\n",
      "Personal Auto\n",
      "Personal Farmowners\n",
      "Premium Finance\n",
      "Prepaid Legal\n",
      "Product Liability\n",
      "Property\n",
      "Service Warranty (Extended Warranty)\n",
      "Surety\n",
      "Time Element\n",
      "Title\n",
      "Wind Only\n",
      "Workers Compensation\n"
     ]
    }
   ],
   "source": [
    "tois = run_sql_query(conn,sql_query=sql_get_tois,params=None,return_format=0)\n",
    "for toi in tois:\n",
    "    print(toi[0])"
   ]
  },
  {
   "cell_type": "markdown",
   "metadata": {},
   "source": [
    "## 3.3 Sub-types of insurance "
   ]
  },
  {
   "cell_type": "code",
   "execution_count": 16,
   "metadata": {},
   "outputs": [],
   "source": [
    "toi = 'Personal Auto'\n",
    "sql_get_subtois = '''select distinct SUBTYPEOFINSURANCEDESCRIPTION_10 from XPRESSFEED.SNL_PC_INSURANCEPRODUCTFILINGS_GENERALINFORMATION where TYPEOFINSURANCEDESCRIPTION_8 = %s;'''"
   ]
  },
  {
   "cell_type": "code",
   "execution_count": 17,
   "metadata": {},
   "outputs": [
    {
     "name": "stdout",
     "output_type": "stream",
     "text": [
      "Personal Auto Combinations\n",
      "Recreational Vehicle (RV)\n",
      "Other\n",
      "Private Passenger Auto (PPA)\n",
      "Motorcycle\n"
     ]
    }
   ],
   "source": [
    "sub_tois = run_sql_query(conn,sql_query=sql_get_subtois,params=(toi,),return_format=0)\n",
    "for sub_toi in sub_tois:\n",
    "    print(sub_toi[0])"
   ]
  },
  {
   "cell_type": "code",
   "execution_count": 18,
   "metadata": {},
   "outputs": [
    {
     "name": "stdout",
     "output_type": "stream",
     "text": [
      "OPERATION_0\n",
      "FILINGCOMPANY_1\n",
      "SERFFFILINGENTITYEVENTKEY_2\n",
      "DISPOSITIONDATE_3\n",
      "RATEFILINGMETHOD_4\n",
      "RATECHANGETYPE_5\n",
      "OVERALLPCOFLASTRATEREVISION_6\n",
      "EFFECTIVEDATEOFLASTRATEREVISION_7\n",
      "FILINGMETHODOFLASTFILING_8\n",
      "OVERALLPCINDICATEDCHANGERATEINFO_9\n",
      "OVERALLPCRATEIMPACTRATEINFO_10\n",
      "WRITTENPREMIUMCHANGERATEINFO_11\n",
      "NUMBEROFPOLICYHOLDERSAFFECTEDRATEINFO_12\n",
      "RATEFILINGWRITTENPREMIUMRATEINFO_13\n",
      "MAXIMUMPCCHANGERATEINFO_14\n",
      "MINIMUMPCCHANGERATEINFO_15\n",
      "MTPLECOOVERALLPERCTRATEINDICATEDRATEINFO_16\n",
      "MTPLECOOVERALLPERCTRATEIMPACTRATEINFO_17\n",
      "MTPLECOWRITTENPREMIUMCHANGERATEINFO_18\n",
      "MTPLECONUMBEROFPOLICYHOLDERSAFFECTEDRATEINFO_19\n",
      "MTPLECOEARNEDPREMIUMFLONLYRATEINFO_20\n"
     ]
    }
   ],
   "source": [
    "# input table name in FROM statement to get list of fields\n",
    "table_name = 'SNL_PC_INSURANCEPRODUCTFILINGS_RATEINFORMATION'\n",
    "full_table_name = 'XPRESSFEED.' + table_name\n",
    "fields_query = f\"SELECT * FROM {full_table_name} LIMIT 1;\"\n",
    "fields_df = run_sql_query(conn,fields_query,params=None,return_format=1)\n",
    "for col in fields_df.columns:\n",
    "    print(col)"
   ]
  },
  {
   "cell_type": "markdown",
   "metadata": {},
   "source": [
    "# 4 Get data  \n",
    "- We defined our sql query in a separate file known as rates_query, which we imported"
   ]
  },
  {
   "cell_type": "markdown",
   "metadata": {},
   "source": [
    "## 4.1 Define sub-type of insurance, start date and end date  \n",
    "- Let's look at Personal Auto, but exclude Other, Recreational Vehicle (RV) and Motorcycle filings\n"
   ]
  },
  {
   "cell_type": "code",
   "execution_count": null,
   "metadata": {},
   "outputs": [],
   "source": [
    "sub_type = 'Personal Auto Combinations','Private Passenger Auto (PPA)'"
   ]
  },
  {
   "cell_type": "code",
   "execution_count": 13,
   "metadata": {},
   "outputs": [],
   "source": [
    "# limit to rate filings only by specifying filing type contains 'Rat'\n",
    "rates_df = run_sql_query(conn,rates_query,params=('2024-01-01','2024-12-31',sub_type,\"%Rat%\"),return_format=1)"
   ]
  },
  {
   "cell_type": "code",
   "execution_count": null,
   "metadata": {},
   "outputs": [],
   "source": [
    "# close the database connection\n",
    "conn.close()"
   ]
  }
 ],
 "metadata": {
  "kernelspec": {
   "display_name": "Python 3",
   "language": "python",
   "name": "python3"
  },
  "language_info": {
   "codemirror_mode": {
    "name": "ipython",
    "version": 3
   },
   "file_extension": ".py",
   "mimetype": "text/x-python",
   "name": "python",
   "nbconvert_exporter": "python",
   "pygments_lexer": "ipython3",
   "version": "3.11.9"
  }
 },
 "nbformat": 4,
 "nbformat_minor": 2
}
